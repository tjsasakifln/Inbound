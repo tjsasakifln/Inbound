# Fine-tuning Notebook

This notebook demonstrates how to fine-tune an open-source model (e.g., via QLoRA) to replace GPT-4o-mini for email scoring.
